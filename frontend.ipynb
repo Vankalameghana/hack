{
  "nbformat": 4,
  "nbformat_minor": 0,
  "metadata": {
    "colab": {
      "private_outputs": true,
      "provenance": [],
      "authorship_tag": "ABX9TyM1pJSYobV3eal2MbTb7hzs",
      "include_colab_link": true
    },
    "kernelspec": {
      "name": "python3",
      "display_name": "Python 3"
    },
    "language_info": {
      "name": "python"
    }
  },
  "cells": [
    {
      "cell_type": "markdown",
      "metadata": {
        "id": "view-in-github",
        "colab_type": "text"
      },
      "source": [
        "<a href=\"https://colab.research.google.com/github/Vankalameghana/hack/blob/master/frontend.ipynb\" target=\"_parent\"><img src=\"https://colab.research.google.com/assets/colab-badge.svg\" alt=\"Open In Colab\"/></a>"
      ]
    },
    {
      "cell_type": "code",
      "execution_count": null,
      "metadata": {
        "id": "izf7RBri6sy6"
      },
      "outputs": [],
      "source": [
        "from IPython.core.display import display, HTML\n",
        "\n",
        "html_code = \"\"\"\n",
        "<!DOCTYPE html>\n",
        "<html lang=\"en\">\n",
        "<head>\n",
        "  <meta charset=\"UTF-8\" />\n",
        "  <meta name=\"viewport\" content=\"width=device-width, initial-scale=1.0\"/>\n",
        "  <title>VidyAI++ – AI Tutoring Platform</title>\n",
        "  <style>\n",
        "    * { margin: 0; padding: 0; box-sizing: border-box; }\n",
        "    body { font-family: 'Segoe UI', sans-serif; background: #f5f8fa; color: #333; line-height: 1.6; }\n",
        "    header { background: #1e3a8a; color: white; padding: 30px 20px; text-align: center; }\n",
        "    nav { background: #2563eb; text-align: center; padding: 10px 0; }\n",
        "    nav ul { list-style: none; }\n",
        "    nav ul li { display: inline-block; margin: 0 15px; }\n",
        "    nav ul li a { color: white; text-decoration: none; font-weight: bold; }\n",
        "    section { padding: 30px 20px; max-width: 900px; margin: auto; }\n",
        "    section h2 { margin-bottom: 15px; font-size: 1.8rem; color: #1e40af; }\n",
        "    section ul li { margin-bottom: 10px; font-size: 1.1rem; }\n",
        "    a { color: #2563eb; }\n",
        "    footer { text-align: center; padding: 20px; background: #1e3a8a; color: white; margin-top: 40px; }\n",
        "  </style>\n",
        "</head>\n",
        "<body>\n",
        "  <header>\n",
        "    <h1>VidyAI++</h1>\n",
        "    <p>Multilingual AI Tutoring & Mentorship for BPL Students</p>\n",
        "  </header>\n",
        "  <nav>\n",
        "    <ul>\n",
        "      <li><a href=\"#objective\">Objective</a></li>\n",
        "      <li><a href=\"#features\">Key Features</a></li>\n",
        "      <li><a href=\"#contact\">Contact</a></li>\n",
        "    </ul>\n",
        "  </nav>\n",
        "  <section id=\"objective\">\n",
        "    <h2>Objective</h2>\n",
        "    <p>\n",
        "      Design an AI-powered, multilingual, inclusive web platform to provide\n",
        "      personalized education and mentorship to underprivileged students in\n",
        "      government schools across India. VidyAI++ aligns with NEP guidelines and\n",
        "      uses cutting-edge AI for interactive and accessible learning.\n",
        "    </p>\n",
        "  </section>\n",
        "  <section id=\"features\">\n",
        "    <h2>Key Features</h2>\n",
        "    <ul>\n",
        "      <li>🧠 <strong>AI Tutoring:</strong> Localized, text & speech-based learning with Gemini/GPT</li>\n",
        "      <li>📈 <strong>Adaptive Content:</strong> Adjusts difficulty with reinforcement learning</li>\n",
        "      <li>👀 <strong>Vision Analysis:</strong> Emotion detection, eye-tracking with DeepFace + OpenCV</li>\n",
        "      <li>🤝 <strong>Mentor Matching:</strong> Connects students with volunteers & NGOs</li>\n",
        "      <li>🎨 <strong>Persona Engine:</strong> Visual, auditory, kinesthetic learning modes</li>\n",
        "      <li>🏅 <strong>Gamified Learning:</strong> Heatmaps, badges, micro-certifications</li>\n",
        "      <li>📶 <strong>Offline Support:</strong> Works without internet using PWA & TensorFlow Lite</li>\n",
        "      <li>🔊 <strong>Zero Literacy UI:</strong> Voice navigation, big visuals, auto-transcription</li>\n",
        "    </ul>\n",
        "  </section>\n",
        "  <section id=\"contact\">\n",
        "    <h2>Contact</h2>\n",
        "    <p>Email: <a href=\"mailto:team@vidyai.org\">team@vidyai.org</a></p>\n",
        "    <p>GitHub: <a href=\"https://github.com/Vankalameghana/hack\" target=\"_blank\">Project Repo</a></p>\n",
        "  </section>\n",
        "  <footer>\n",
        "    <p>&copy; 2025 VidyAI++. All rights reserved.</p>\n",
        "  </footer>\n",
        "</body>\n",
        "</html>\n",
        "\"\"\"\n",
        "\n",
        "display(HTML(html_code))\n"
      ]
    }
  ]
}